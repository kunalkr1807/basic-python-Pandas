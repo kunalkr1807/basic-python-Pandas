{
 "cells": [
  {
   "cell_type": "code",
   "execution_count": 2,
   "id": "8a5f2d36",
   "metadata": {},
   "outputs": [],
   "source": [
    "import pandas as ps\n",
    "import numpy as ny"
   ]
  },
  {
   "cell_type": "code",
   "execution_count": 6,
   "id": "d4ec6090",
   "metadata": {},
   "outputs": [],
   "source": [
    "q=ny.array([2,5,8,1,5,9])"
   ]
  },
  {
   "cell_type": "code",
   "execution_count": 7,
   "id": "d4fbaec2",
   "metadata": {},
   "outputs": [
    {
     "data": {
      "text/plain": [
       "numpy.ndarray"
      ]
     },
     "execution_count": 7,
     "metadata": {},
     "output_type": "execute_result"
    }
   ],
   "source": [
    "type(q)"
   ]
  },
  {
   "cell_type": "markdown",
   "id": "3ca39e26",
   "metadata": {},
   "source": [
    "- Here, nd array means n dimensional array. Eg : 1-d , 2-d , 3-d.....,n-d array"
   ]
  },
  {
   "cell_type": "code",
   "execution_count": 13,
   "id": "184fa8dc",
   "metadata": {},
   "outputs": [],
   "source": [
    "y=ny.array([1,-7,'wrt',3+7j,5,3.3])"
   ]
  },
  {
   "cell_type": "code",
   "execution_count": 14,
   "id": "efa6da94",
   "metadata": {},
   "outputs": [
    {
     "data": {
      "text/plain": [
       "array(['1', '-7', 'wrt', '(3+7j)', '5', '3.3'], dtype='<U64')"
      ]
     },
     "execution_count": 14,
     "metadata": {},
     "output_type": "execute_result"
    }
   ],
   "source": [
    "y"
   ]
  },
  {
   "cell_type": "code",
   "execution_count": 18,
   "id": "ccd35024",
   "metadata": {},
   "outputs": [
    {
     "data": {
      "text/plain": [
       "array([2.  , 4.  , 1.  , 5.23, 8.  ])"
      ]
     },
     "execution_count": 18,
     "metadata": {},
     "output_type": "execute_result"
    }
   ],
   "source": [
    "ny.array([2,4,1,5.23,8])"
   ]
  },
  {
   "cell_type": "markdown",
   "id": "cd353d56",
   "metadata": {},
   "source": [
    "- We can change the datatype of array using dtype"
   ]
  },
  {
   "cell_type": "code",
   "execution_count": 24,
   "id": "395a1e08",
   "metadata": {},
   "outputs": [
    {
     "data": {
      "text/plain": [
       "array([1.+0.j, 3.+0.j, 4.+0.j])"
      ]
     },
     "execution_count": 24,
     "metadata": {},
     "output_type": "execute_result"
    }
   ],
   "source": [
    "ny.array([1,3,4],dtype=complex) "
   ]
  },
  {
   "cell_type": "code",
   "execution_count": 18,
   "id": "ecf82d0c",
   "metadata": {},
   "outputs": [],
   "source": [
    "ar1=ny.array([[(1, 2),(3, 4)]])"
   ]
  },
  {
   "cell_type": "markdown",
   "id": "afb03c68",
   "metadata": {},
   "source": [
    " - We can create numpy array in Small(1, 2) / Big [2,4] braces"
   ]
  },
  {
   "cell_type": "code",
   "execution_count": 19,
   "id": "f3bc1d8e",
   "metadata": {},
   "outputs": [
    {
     "data": {
      "text/plain": [
       "array([[[1, 2],\n",
       "        [3, 4]]])"
      ]
     },
     "execution_count": 19,
     "metadata": {},
     "output_type": "execute_result"
    }
   ],
   "source": [
    "ar1"
   ]
  },
  {
   "cell_type": "code",
   "execution_count": 20,
   "id": "47daca31",
   "metadata": {},
   "outputs": [
    {
     "data": {
      "text/plain": [
       "matrix([[1, 2],\n",
       "        [3, 4]])"
      ]
     },
     "execution_count": 20,
     "metadata": {},
     "output_type": "execute_result"
    }
   ],
   "source": [
    "ny.mat(ar1)"
   ]
  },
  {
   "cell_type": "code",
   "execution_count": 31,
   "id": "0b058cc2",
   "metadata": {},
   "outputs": [],
   "source": [
    "ar2=ny.mat(ar1)"
   ]
  },
  {
   "cell_type": "code",
   "execution_count": 25,
   "id": "c1741e36",
   "metadata": {},
   "outputs": [],
   "source": [
    "e=[1,2,3,'tnb',0.72]"
   ]
  },
  {
   "cell_type": "code",
   "execution_count": 35,
   "id": "cd3fc35f",
   "metadata": {},
   "outputs": [
    {
     "data": {
      "text/plain": [
       "array(['1', '2', '3', 'tnb', '0.72'], dtype='<U32')"
      ]
     },
     "execution_count": 35,
     "metadata": {},
     "output_type": "execute_result"
    }
   ],
   "source": [
    "ny.asarray(e)"
   ]
  },
  {
   "cell_type": "code",
   "execution_count": 34,
   "id": "13b9d100",
   "metadata": {},
   "outputs": [
    {
     "data": {
      "text/plain": [
       "array(['1', '2', '3', 'tnb', '0.72'], dtype='<U32')"
      ]
     },
     "execution_count": 34,
     "metadata": {},
     "output_type": "execute_result"
    }
   ],
   "source": [
    "ny.asanyarray(e)"
   ]
  },
  {
   "cell_type": "markdown",
   "id": "3bcd1ac0",
   "metadata": {},
   "source": [
    "1. Differ b/w asarray converts everything to array & asanyarray only converts those which r not predefined array\n",
    "2. matrix is subset of array.it can be checked using ' issubclass '."
   ]
  },
  {
   "cell_type": "code",
   "execution_count": 3,
   "id": "ca864351",
   "metadata": {},
   "outputs": [],
   "source": [
    "e1=ny.array([[[4,7,2],[9,0,5]],[[9,0,5],[6,1,8]]])"
   ]
  },
  {
   "cell_type": "code",
   "execution_count": 4,
   "id": "86ca7a04",
   "metadata": {},
   "outputs": [
    {
     "data": {
      "text/plain": [
       "array([[[4, 7, 2],\n",
       "        [9, 0, 5]],\n",
       "\n",
       "       [[9, 0, 5],\n",
       "        [6, 1, 8]]])"
      ]
     },
     "execution_count": 4,
     "metadata": {},
     "output_type": "execute_result"
    }
   ],
   "source": [
    "e1"
   ]
  },
  {
   "cell_type": "code",
   "execution_count": 5,
   "id": "25123460",
   "metadata": {},
   "outputs": [
    {
     "data": {
      "text/plain": [
       "3"
      ]
     },
     "execution_count": 5,
     "metadata": {},
     "output_type": "execute_result"
    }
   ],
   "source": [
    "e1.ndim"
   ]
  },
  {
   "cell_type": "code",
   "execution_count": 6,
   "id": "8c3cfe0e",
   "metadata": {},
   "outputs": [
    {
     "data": {
      "text/plain": [
       "12"
      ]
     },
     "execution_count": 6,
     "metadata": {},
     "output_type": "execute_result"
    }
   ],
   "source": [
    "e1.size"
   ]
  },
  {
   "cell_type": "code",
   "execution_count": 7,
   "id": "2f7a8a6e",
   "metadata": {},
   "outputs": [
    {
     "data": {
      "text/plain": [
       "(2, 2, 3)"
      ]
     },
     "execution_count": 7,
     "metadata": {},
     "output_type": "execute_result"
    }
   ],
   "source": [
    "e1.shape"
   ]
  },
  {
   "cell_type": "code",
   "execution_count": null,
   "id": "4924d0c3",
   "metadata": {},
   "outputs": [],
   "source": [
    "1. .shape() shows the set of element & its dimension. Here (2,2,3) means 1st 2 means 2 set of elements,\n",
    "2. 2nd (2,3) means its dimension i.e n x m ."
   ]
  },
  {
   "cell_type": "code",
   "execution_count": 18,
   "id": "c1826ef5",
   "metadata": {},
   "outputs": [
    {
     "data": {
      "text/html": [
       "<div>\n",
       "<style scoped>\n",
       "    .dataframe tbody tr th:only-of-type {\n",
       "        vertical-align: middle;\n",
       "    }\n",
       "\n",
       "    .dataframe tbody tr th {\n",
       "        vertical-align: top;\n",
       "    }\n",
       "\n",
       "    .dataframe thead th {\n",
       "        text-align: right;\n",
       "    }\n",
       "</style>\n",
       "<table border=\"1\" class=\"dataframe\">\n",
       "  <thead>\n",
       "    <tr style=\"text-align: right;\">\n",
       "      <th></th>\n",
       "      <th>0</th>\n",
       "    </tr>\n",
       "  </thead>\n",
       "  <tbody>\n",
       "    <tr>\n",
       "      <th>0</th>\n",
       "      <td>1</td>\n",
       "    </tr>\n",
       "    <tr>\n",
       "      <th>1</th>\n",
       "      <td>1</td>\n",
       "    </tr>\n",
       "    <tr>\n",
       "      <th>2</th>\n",
       "      <td>4</td>\n",
       "    </tr>\n",
       "    <tr>\n",
       "      <th>3</th>\n",
       "      <td>27</td>\n",
       "    </tr>\n",
       "    <tr>\n",
       "      <th>4</th>\n",
       "      <td>256</td>\n",
       "    </tr>\n",
       "  </tbody>\n",
       "</table>\n",
       "</div>"
      ],
      "text/plain": [
       "     0\n",
       "0    1\n",
       "1    1\n",
       "2    4\n",
       "3   27\n",
       "4  256"
      ]
     },
     "execution_count": 18,
     "metadata": {},
     "output_type": "execute_result"
    }
   ],
   "source": [
    "q1=ny.array([u**u for u in range(5)])\n",
    "ps.DataFrame(q1)\n"
   ]
  },
  {
   "cell_type": "markdown",
   "id": "9a893c80",
   "metadata": {},
   "source": [
    "numpy.from...() is use to generate  ndarray()"
   ]
  },
  {
   "cell_type": "code",
   "execution_count": 27,
   "id": "68fff537",
   "metadata": {},
   "outputs": [
    {
     "data": {
      "text/plain": [
       "array([0.+0.j, 1.+0.j, 2.+0.j, 3.+0.j, 4.+0.j, 5.+0.j, 6.+0.j])"
      ]
     },
     "execution_count": 27,
     "metadata": {},
     "output_type": "execute_result"
    }
   ],
   "source": [
    "ny.fromiter(range(7),dtype=complex)"
   ]
  },
  {
   "cell_type": "code",
   "execution_count": 43,
   "id": "d9e80011",
   "metadata": {},
   "outputs": [
    {
     "data": {
      "text/plain": [
       "array([234, 574,  23, 768, 356])"
      ]
     },
     "execution_count": 43,
     "metadata": {},
     "output_type": "execute_result"
    }
   ],
   "source": [
    "ny.fromstring('234 574 23 768 356', sep = ' ' ,dtype=int)"
   ]
  },
  {
   "cell_type": "code",
   "execution_count": 44,
   "id": "330e2b71",
   "metadata": {},
   "outputs": [
    {
     "data": {
      "text/plain": [
       "dtype('int32')"
      ]
     },
     "execution_count": 44,
     "metadata": {},
     "output_type": "execute_result"
    }
   ],
   "source": [
    "e1.dtype"
   ]
  },
  {
   "cell_type": "code",
   "execution_count": 45,
   "id": "2e34b627",
   "metadata": {},
   "outputs": [
    {
     "data": {
      "text/plain": [
       "12"
      ]
     },
     "execution_count": 45,
     "metadata": {},
     "output_type": "execute_result"
    }
   ],
   "source": [
    "e1.size"
   ]
  },
  {
   "cell_type": "code",
   "execution_count": 49,
   "id": "102352b2",
   "metadata": {},
   "outputs": [
    {
     "name": "stdout",
     "output_type": "stream",
     "text": [
      "[[         0          0 1318772816]\n",
      " [     32762          1          0]\n",
      " [        -1         -1          0]]\n"
     ]
    }
   ],
   "source": [
    "# Q 1. empty array\n",
    "a=ny.empty([3,3], dtype=int)\n",
    "a"
   ]
  },
  {
   "cell_type": "code",
   "execution_count": 52,
   "id": "8bde9b3a",
   "metadata": {},
   "outputs": [
    {
     "data": {
      "text/plain": [
       "array([[78, 78, 78],\n",
       "       [78, 78, 78],\n",
       "       [78, 78, 78]])"
      ]
     },
     "execution_count": 52,
     "metadata": {},
     "output_type": "execute_result"
    }
   ],
   "source": [
    "# q 2. full array\n",
    "b=ny.full([3,3],78, dtype=int)\n",
    "b"
   ]
  },
  {
   "cell_type": "code",
   "execution_count": 61,
   "id": "03fa7ba5",
   "metadata": {},
   "outputs": [
    {
     "data": {
      "text/plain": [
       "array([[0, 0, 0],\n",
       "       [0, 0, 0],\n",
       "       [0, 0, 0]])"
      ]
     },
     "execution_count": 61,
     "metadata": {},
     "output_type": "execute_result"
    }
   ],
   "source": [
    "# 3. zeros\n",
    "c=ny.zeros([3,3], dtype=int)\n",
    "c\n",
    "# d=ny.ones([3,3], dtype=int)\n",
    "# d"
   ]
  },
  {
   "cell_type": "code",
   "execution_count": 78,
   "id": "f4567923",
   "metadata": {},
   "outputs": [],
   "source": [
    "# 4. check specified row.\n",
    "e=ny.array([[1, 2, 3, 4, 5],\n",
    "            [6, 7, 8, 9, 10],\n",
    "            [11, 12, 13, 14, 15],\n",
    "            [16, 17, 18, 19, 20]])\n"
   ]
  },
  {
   "cell_type": "code",
   "execution_count": 80,
   "id": "eef7c27a",
   "metadata": {},
   "outputs": [
    {
     "name": "stdout",
     "output_type": "stream",
     "text": [
      "False\n"
     ]
    }
   ],
   "source": [
    "print([1,2,3,4,5] in e.tolist())"
   ]
  },
  {
   "cell_type": "code",
   "execution_count": 86,
   "id": "c4aaa60c",
   "metadata": {},
   "outputs": [
    {
     "data": {
      "text/plain": [
       "14"
      ]
     },
     "execution_count": 86,
     "metadata": {},
     "output_type": "execute_result"
    }
   ],
   "source": [
    "# acessing element using index notation\n",
    "# e[2,3]\n",
    "# or ,both gives same o/p\n",
    "e[2][3]"
   ]
  },
  {
   "cell_type": "code",
   "execution_count": 93,
   "id": "d76dd938",
   "metadata": {},
   "outputs": [
    {
     "data": {
      "text/plain": [
       "array([[ 2.,  9.,  3.,  0.],\n",
       "       [nan,  8., nan,  3.],\n",
       "       [nan,  6.,  1., nan]])"
      ]
     },
     "execution_count": 93,
     "metadata": {},
     "output_type": "execute_result"
    }
   ],
   "source": [
    "# removing null values\n",
    "f=ny.array([[2,9,3,0],[ny.nan,8,ny.nan,3],[ny.nan,6,1,ny.nan]])\n",
    "f"
   ]
  },
  {
   "cell_type": "code",
   "execution_count": 102,
   "id": "060ad7ce",
   "metadata": {},
   "outputs": [
    {
     "data": {
      "text/plain": [
       "array([[False, False, False, False],\n",
       "       [ True, False,  True, False],\n",
       "       [ True, False, False,  True]])"
      ]
     },
     "execution_count": 102,
     "metadata": {},
     "output_type": "execute_result"
    }
   ],
   "source": [
    "ny.isnan(f)  # row wise nan values"
   ]
  },
  {
   "cell_type": "code",
   "execution_count": 103,
   "id": "a6b6dae3",
   "metadata": {},
   "outputs": [
    {
     "data": {
      "text/plain": [
       "array([False,  True,  True])"
      ]
     },
     "execution_count": 103,
     "metadata": {},
     "output_type": "execute_result"
    }
   ],
   "source": [
    "ny.isnan(f).any(axis=1) # column wise nan values "
   ]
  },
  {
   "cell_type": "code",
   "execution_count": 104,
   "id": "76018164",
   "metadata": {},
   "outputs": [
    {
     "data": {
      "text/plain": [
       "array([2.1, 2.6, 3.1, 3.6, 4.1, 4.6, 5.1, 5.6, 6.1, 6.6, 7.1, 7.6])"
      ]
     },
     "execution_count": 104,
     "metadata": {},
     "output_type": "execute_result"
    }
   ],
   "source": [
    "# Numpy has arange function to print values in a given range\n",
    "ny.arange(2.1,8,.5)"
   ]
  },
  {
   "cell_type": "code",
   "execution_count": 111,
   "id": "f9524051",
   "metadata": {},
   "outputs": [
    {
     "data": {
      "text/plain": [
       "array([1. , 1.7, 2.4, 3.1, 3.8, 4.5, 5.2, 5.9, 6.6, 7.3])"
      ]
     },
     "execution_count": 111,
     "metadata": {},
     "output_type": "execute_result"
    }
   ],
   "source": [
    "ny.arange(1,8,.7)"
   ]
  },
  {
   "cell_type": "code",
   "execution_count": 120,
   "id": "2303ebd9",
   "metadata": {},
   "outputs": [
    {
     "data": {
      "text/plain": [
       "array([ 1.,  2.,  3.,  4.,  5.,  6.,  7.,  8.,  9., 10., 11., 12., 13.,\n",
       "       14., 15., 16., 17.])"
      ]
     },
     "execution_count": 120,
     "metadata": {},
     "output_type": "execute_result"
    }
   ],
   "source": [
    "ny.linspace(1,17,17)"
   ]
  },
  {
   "cell_type": "code",
   "execution_count": 126,
   "id": "16482ed3",
   "metadata": {},
   "outputs": [
    {
     "data": {
      "text/plain": [
       "(array([24., 33.]), 9.0)"
      ]
     },
     "execution_count": 126,
     "metadata": {},
     "output_type": "execute_result"
    }
   ],
   "source": [
    "ny.linspace(24,33,2,retstep=True)"
   ]
  },
  {
   "cell_type": "markdown",
   "id": "69fce725",
   "metadata": {},
   "source": [
    "linspace creates even distribution between a given range()."
   ]
  },
  {
   "cell_type": "code",
   "execution_count": 6,
   "id": "b96de783",
   "metadata": {},
   "outputs": [
    {
     "data": {
      "text/plain": [
       "array([[1., 0., 0., 0.],\n",
       "       [0., 1., 0., 0.],\n",
       "       [0., 0., 1., 0.],\n",
       "       [0., 0., 0., 1.]])"
      ]
     },
     "execution_count": 6,
     "metadata": {},
     "output_type": "execute_result"
    }
   ],
   "source": [
    "ny.eye(4)"
   ]
  },
  {
   "cell_type": "code",
   "execution_count": 5,
   "id": "a432c588",
   "metadata": {},
   "outputs": [
    {
     "data": {
      "text/plain": [
       "array([ 1.        ,  1.48979592,  1.97959184,  2.46938776,  2.95918367,\n",
       "        3.44897959,  3.93877551,  4.42857143,  4.91836735,  5.40816327,\n",
       "        5.89795918,  6.3877551 ,  6.87755102,  7.36734694,  7.85714286,\n",
       "        8.34693878,  8.83673469,  9.32653061,  9.81632653, 10.30612245,\n",
       "       10.79591837, 11.28571429, 11.7755102 , 12.26530612, 12.75510204,\n",
       "       13.24489796, 13.73469388, 14.2244898 , 14.71428571, 15.20408163,\n",
       "       15.69387755, 16.18367347, 16.67346939, 17.16326531, 17.65306122,\n",
       "       18.14285714, 18.63265306, 19.12244898, 19.6122449 , 20.10204082,\n",
       "       20.59183673, 21.08163265, 21.57142857, 22.06122449, 22.55102041,\n",
       "       23.04081633, 23.53061224, 24.02040816, 24.51020408, 25.        ])"
      ]
     },
     "execution_count": 5,
     "metadata": {},
     "output_type": "execute_result"
    }
   ],
   "source": [
    "ny.linspace(1,25,50)"
   ]
  },
  {
   "cell_type": "code",
   "execution_count": 66,
   "id": "0477af35",
   "metadata": {},
   "outputs": [
    {
     "data": {
      "text/plain": [
       "array([[470, 454, 998, 586, 991, 604],\n",
       "       [905, 722, 228, 708, 262, 469],\n",
       "       [787, 500, 869, 905, 392, 516],\n",
       "       [272, 410, 573, 919,  50, 841]])"
      ]
     },
     "execution_count": 66,
     "metadata": {},
     "output_type": "execute_result"
    }
   ],
   "source": [
    "ny.random.randint(0,999,(4,6))"
   ]
  },
  {
   "cell_type": "code",
   "execution_count": 87,
   "id": "d2d866e8",
   "metadata": {},
   "outputs": [
    {
     "data": {
      "text/plain": [
       "array([[50,  9],\n",
       "       [14, 24],\n",
       "       [ 1, 50],\n",
       "       [34, 29]])"
      ]
     },
     "execution_count": 87,
     "metadata": {},
     "output_type": "execute_result"
    }
   ],
   "source": [
    "wx=ny.random.randint(1,57,(4,2))\n",
    "wx"
   ]
  },
  {
   "cell_type": "code",
   "execution_count": 102,
   "id": "0ae5be83",
   "metadata": {},
   "outputs": [
    {
     "data": {
      "text/plain": [
       "array([[50],\n",
       "       [ 9],\n",
       "       [14],\n",
       "       [24],\n",
       "       [ 1],\n",
       "       [50],\n",
       "       [34],\n",
       "       [29]])"
      ]
     },
     "execution_count": 102,
     "metadata": {},
     "output_type": "execute_result"
    }
   ],
   "source": [
    "wx.reshape(8,-349898934521)"
   ]
  },
  {
   "cell_type": "code",
   "execution_count": 103,
   "id": "270e2a95",
   "metadata": {},
   "outputs": [
    {
     "data": {
      "text/plain": [
       "1"
      ]
     },
     "execution_count": 103,
     "metadata": {},
     "output_type": "execute_result"
    }
   ],
   "source": [
    "wx.min()"
   ]
  },
  {
   "cell_type": "code",
   "execution_count": 104,
   "id": "47c75d86",
   "metadata": {},
   "outputs": [
    {
     "data": {
      "text/plain": [
       "50"
      ]
     },
     "execution_count": 104,
     "metadata": {},
     "output_type": "execute_result"
    }
   ],
   "source": [
    "wx.max()"
   ]
  },
  {
   "cell_type": "code",
   "execution_count": 110,
   "id": "42b5970b",
   "metadata": {},
   "outputs": [
    {
     "data": {
      "text/plain": [
       "array([[50],\n",
       "       [29]])"
      ]
     },
     "execution_count": 110,
     "metadata": {},
     "output_type": "execute_result"
    }
   ],
   "source": [
    "wx[2:,1:]"
   ]
  },
  {
   "cell_type": "code",
   "execution_count": 116,
   "id": "9025ba7a",
   "metadata": {},
   "outputs": [
    {
     "data": {
      "text/plain": [
       "array([[False, False],\n",
       "       [False, False],\n",
       "       [False, False],\n",
       "       [False, False]])"
      ]
     },
     "execution_count": 116,
     "metadata": {},
     "output_type": "execute_result"
    }
   ],
   "source": [
    "wx>50"
   ]
  },
  {
   "cell_type": "code",
   "execution_count": 117,
   "id": "1384b08c",
   "metadata": {},
   "outputs": [
    {
     "data": {
      "text/plain": [
       "array([50, 24, 50, 34, 29])"
      ]
     },
     "execution_count": 117,
     "metadata": {},
     "output_type": "execute_result"
    }
   ],
   "source": [
    "wx[wx>17]"
   ]
  },
  {
   "cell_type": "code",
   "execution_count": 125,
   "id": "af8ae048",
   "metadata": {},
   "outputs": [
    {
     "data": {
      "text/plain": [
       "array([[4, 1],\n",
       "       [5, 3],\n",
       "       [6, 7]])"
      ]
     },
     "execution_count": 125,
     "metadata": {},
     "output_type": "execute_result"
    }
   ],
   "source": [
    "t1=ny.random.randint(1,9,(3,2))\n",
    "t1"
   ]
  },
  {
   "cell_type": "code",
   "execution_count": 126,
   "id": "c6840c20",
   "metadata": {},
   "outputs": [
    {
     "data": {
      "text/plain": [
       "array([[3, 8],\n",
       "       [3, 3],\n",
       "       [1, 4]])"
      ]
     },
     "execution_count": 126,
     "metadata": {},
     "output_type": "execute_result"
    }
   ],
   "source": [
    "t2=ny.random.randint(1,9,(3,2))\n",
    "t2"
   ]
  },
  {
   "cell_type": "code",
   "execution_count": 127,
   "id": "48523773",
   "metadata": {},
   "outputs": [
    {
     "data": {
      "text/plain": [
       "array([[12,  8],\n",
       "       [15,  9],\n",
       "       [ 6, 28]])"
      ]
     },
     "execution_count": 127,
     "metadata": {},
     "output_type": "execute_result"
    }
   ],
   "source": [
    "t1*t2"
   ]
  },
  {
   "cell_type": "code",
   "execution_count": 134,
   "id": "b7784a43",
   "metadata": {},
   "outputs": [
    {
     "data": {
      "text/plain": [
       "array([[0., 0., 0.],\n",
       "       [0., 0., 0.],\n",
       "       [0., 0., 0.]])"
      ]
     },
     "execution_count": 134,
     "metadata": {},
     "output_type": "execute_result"
    }
   ],
   "source": [
    "t3=ny.zeros((3,3))\n",
    "t3"
   ]
  },
  {
   "cell_type": "code",
   "execution_count": 135,
   "id": "f28515df",
   "metadata": {},
   "outputs": [],
   "source": [
    "t4=ny.array([5,1,8])"
   ]
  },
  {
   "cell_type": "code",
   "execution_count": 136,
   "id": "dd044cdb",
   "metadata": {},
   "outputs": [
    {
     "data": {
      "text/plain": [
       "array([[5., 1., 8.],\n",
       "       [5., 1., 8.],\n",
       "       [5., 1., 8.]])"
      ]
     },
     "execution_count": 136,
     "metadata": {},
     "output_type": "execute_result"
    }
   ],
   "source": [
    "t3+t4"
   ]
  },
  {
   "cell_type": "code",
   "execution_count": 143,
   "id": "d0fa477f",
   "metadata": {},
   "outputs": [
    {
     "data": {
      "text/plain": [
       "array([[5., 5., 5.],\n",
       "       [1., 1., 1.],\n",
       "       [8., 8., 8.]])"
      ]
     },
     "execution_count": 143,
     "metadata": {},
     "output_type": "execute_result"
    }
   ],
   "source": [
    "t5=t4.reshape(3,1)+t3\n",
    "t5"
   ]
  },
  {
   "cell_type": "code",
   "execution_count": 144,
   "id": "062d5a5c",
   "metadata": {},
   "outputs": [
    {
     "data": {
      "text/plain": [
       "array([[2.23606798, 2.23606798, 2.23606798],\n",
       "       [1.        , 1.        , 1.        ],\n",
       "       [2.82842712, 2.82842712, 2.82842712]])"
      ]
     },
     "execution_count": 144,
     "metadata": {},
     "output_type": "execute_result"
    }
   ],
   "source": [
    "ny.sqrt(t5)"
   ]
  },
  {
   "cell_type": "code",
   "execution_count": 145,
   "id": "8ba52a63",
   "metadata": {},
   "outputs": [
    {
     "data": {
      "text/plain": [
       "array([[1.48413159e+02, 1.48413159e+02, 1.48413159e+02],\n",
       "       [2.71828183e+00, 2.71828183e+00, 2.71828183e+00],\n",
       "       [2.98095799e+03, 2.98095799e+03, 2.98095799e+03]])"
      ]
     },
     "execution_count": 145,
     "metadata": {},
     "output_type": "execute_result"
    }
   ],
   "source": [
    "ny.exp(t5)"
   ]
  },
  {
   "cell_type": "code",
   "execution_count": 146,
   "id": "0db88c3a",
   "metadata": {},
   "outputs": [
    {
     "data": {
      "text/plain": [
       "array([[0.69897   , 0.69897   , 0.69897   ],\n",
       "       [0.        , 0.        , 0.        ],\n",
       "       [0.90308999, 0.90308999, 0.90308999]])"
      ]
     },
     "execution_count": 146,
     "metadata": {},
     "output_type": "execute_result"
    }
   ],
   "source": [
    "ny.log10(t5)"
   ]
  },
  {
   "cell_type": "code",
   "execution_count": 189,
   "id": "769d73a7",
   "metadata": {},
   "outputs": [
    {
     "ename": "TypeError",
     "evalue": "_logspace_dispatcher() missing 1 required positional argument: 'stop'",
     "output_type": "error",
     "traceback": [
      "\u001b[1;31m---------------------------------------------------------------------------\u001b[0m",
      "\u001b[1;31mTypeError\u001b[0m                                 Traceback (most recent call last)",
      "Input \u001b[1;32mIn [189]\u001b[0m, in \u001b[0;36m<cell line: 1>\u001b[1;34m()\u001b[0m\n\u001b[1;32m----> 1\u001b[0m \u001b[43mny\u001b[49m\u001b[38;5;241;43m.\u001b[39;49m\u001b[43mlogspace\u001b[49m\u001b[43m(\u001b[49m\u001b[43mt5\u001b[49m\u001b[43m)\u001b[49m\n",
      "File \u001b[1;32m<__array_function__ internals>:4\u001b[0m, in \u001b[0;36mlogspace\u001b[1;34m(*args, **kwargs)\u001b[0m\n",
      "\u001b[1;31mTypeError\u001b[0m: _logspace_dispatcher() missing 1 required positional argument: 'stop'"
     ]
    }
   ],
   "source": [
    "ny.logspace(t5)"
   ]
  },
  {
   "cell_type": "code",
   "execution_count": 183,
   "id": "8fcaff71",
   "metadata": {},
   "outputs": [
    {
     "data": {
      "text/plain": [
       "array([[0.44080984, 0.02987621, 0.45683322],\n",
       "       [0.64914405, 0.27848728, 0.6762549 ],\n",
       "       [0.59086282, 0.02398188, 0.55885409]])"
      ]
     },
     "execution_count": 183,
     "metadata": {},
     "output_type": "execute_result"
    }
   ],
   "source": [
    "# ny.random.seed(3)\n",
    "ny.random.rand(3,3)"
   ]
  },
  {
   "cell_type": "code",
   "execution_count": 46,
   "id": "ddb1e6b8",
   "metadata": {},
   "outputs": [
    {
     "name": "stdout",
     "output_type": "stream",
     "text": [
      "1\n",
      "2\n",
      "3\n",
      "4\n",
      "5\n",
      "6\n",
      "7\n",
      "8\n",
      "9\n"
     ]
    }
   ],
   "source": [
    "for i in range(1,10):\n",
    "    print(i)"
   ]
  },
  {
   "cell_type": "code",
   "execution_count": 47,
   "id": "1627274e",
   "metadata": {},
   "outputs": [
    {
     "name": "stdout",
     "output_type": "stream",
     "text": [
      "1\n",
      "2\n",
      "3\n",
      "4\n",
      "5\n",
      "6\n",
      "7\n",
      "8\n",
      "9\n",
      "10\n"
     ]
    }
   ],
   "source": [
    "i=0\n",
    "while(i<10):\n",
    "    i +=1\n",
    "    print(i)"
   ]
  },
  {
   "cell_type": "code",
   "execution_count": 4,
   "id": "40825611",
   "metadata": {},
   "outputs": [
    {
     "data": {
      "text/plain": [
       "array([[[6, 1, 3, 7, 7],\n",
       "        [8, 7, 6, 0, 2],\n",
       "        [2, 1, 4, 4, 5]],\n",
       "\n",
       "       [[0, 0, 4, 0, 2],\n",
       "        [4, 5, 8, 4, 4],\n",
       "        [3, 7, 7, 1, 2]],\n",
       "\n",
       "       [[5, 4, 4, 8, 1],\n",
       "        [1, 0, 7, 8, 3],\n",
       "        [2, 5, 1, 5, 5]],\n",
       "\n",
       "       [[7, 6, 6, 1, 0],\n",
       "        [1, 1, 6, 7, 7],\n",
       "        [8, 2, 4, 3, 1]]])"
      ]
     },
     "execution_count": 4,
     "metadata": {},
     "output_type": "execute_result"
    }
   ],
   "source": [
    "#  1.  4 indicates the number of matrices will be formed\n",
    "#  2.  3   indicates the number of rows in each matrix\n",
    "#  3.& 5  indicates the number of columns in each matrix\n",
    "ny.random.randint(0,9,(4,3,5))"
   ]
  },
  {
   "cell_type": "code",
   "execution_count": null,
   "id": "80e6f62e",
   "metadata": {},
   "outputs": [],
   "source": []
  }
 ],
 "metadata": {
  "kernelspec": {
   "display_name": "Python 3 (ipykernel)",
   "language": "python",
   "name": "python3"
  },
  "language_info": {
   "codemirror_mode": {
    "name": "ipython",
    "version": 3
   },
   "file_extension": ".py",
   "mimetype": "text/x-python",
   "name": "python",
   "nbconvert_exporter": "python",
   "pygments_lexer": "ipython3",
   "version": "3.9.12"
  }
 },
 "nbformat": 4,
 "nbformat_minor": 5
}
